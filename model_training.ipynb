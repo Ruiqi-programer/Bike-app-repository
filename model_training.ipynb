{
 "cells": [
  {
   "cell_type": "code",
   "execution_count": 12,
   "id": "03e36188-6fb2-4726-aba0-6866840b844d",
   "metadata": {},
   "outputs": [],
   "source": [
    "import pandas as pd\n",
    "from sklearn.model_selection import train_test_split\n",
    "from sklearn.linear_model import LinearRegression\n",
    "from sklearn.ensemble import RandomForestRegressor\n",
    "from sklearn.metrics import mean_absolute_error, r2_score\n",
    "from sklearn.ensemble import RandomForestClassifier\n",
    "import joblib\n",
    "import pickle"
   ]
  },
  {
   "cell_type": "code",
   "execution_count": 13,
   "id": "ba9240c0-aeb9-4ccb-8b0c-771f76f68f80",
   "metadata": {},
   "outputs": [],
   "source": [
    "df = pd.read_csv('final_merged_data.csv', keep_default_na=True, delimiter=',', skipinitialspace=True)\n",
    "df.dropna(inplace=True)"
   ]
  },
  {
   "cell_type": "code",
   "execution_count": 14,
   "id": "fb9f476c-a7bf-437a-9996-76f8407b00f6",
   "metadata": {},
   "outputs": [
    {
     "data": {
      "text/plain": [
       "(298946, 78)"
      ]
     },
     "execution_count": 14,
     "metadata": {},
     "output_type": "execute_result"
    }
   ],
   "source": [
    "df.shape"
   ]
  },
  {
   "cell_type": "code",
   "execution_count": null,
   "id": "939314b8-6cfc-450e-a590-da8114a788be",
   "metadata": {},
   "outputs": [],
   "source": [
    "df.head(5)"
   ]
  },
  {
   "cell_type": "code",
   "execution_count": null,
   "id": "4f2d42af-45e6-45ae-bdb5-1af6ea901fb8",
   "metadata": {},
   "outputs": [],
   "source": [
    "columns = ['last_reported', 'station_id', 'num_bikes_available',\n",
    "           'num_docks_available', 'is_installed', 'is_renting', 'is_returning',\n",
    "           'name', 'address', 'lat', 'lon', 'capacity', 'stno', 'year', 'month',\n",
    "           'day', 'hour', 'minute']\n",
    "\n",
    "sub_set = df[columns]\n",
    "sub_set.head(5)\n"
   ]
  },
  {
   "cell_type": "code",
   "execution_count": 17,
   "id": "961907f1-6c7f-4612-8341-1d9988c053ae",
   "metadata": {},
   "outputs": [
    {
     "data": {
      "text/plain": [
       "Index(['last_reported', 'station_id', 'num_bikes_available',\n",
       "       'num_docks_available', 'is_installed', 'is_renting', 'is_returning',\n",
       "       'name', 'address', 'lat', 'lon', 'capacity', 'stno', 'year', 'month',\n",
       "       'day', 'hour', 'minute', 'max_air_temp_quality_indicator',\n",
       "       'max_air_temperature_celsius', 'min_air_temp_quality_indicator',\n",
       "       'min_air_temperature_celsius', 'air_temp_std_quality_indicator',\n",
       "       'air_temperature_std_deviation', 'max_grass_temp_quality_indicator',\n",
       "       'max_grass_temperature_celsius', 'min_grass_temp_quality_indicator',\n",
       "       'min_grass_temperature_celsius', 'grass_temp_std_quality_indicator',\n",
       "       'grass_temperature_std_deviation',\n",
       "       'max_soil_temp_5cm_quality_indicator',\n",
       "       'max_soil_temperature_5cm_celsius',\n",
       "       'min_soil_temp_5cm_quality_indicator',\n",
       "       'min_soil_temperature_5cm_celsius',\n",
       "       'soil_temp_std_5cm_quality_indicator',\n",
       "       'soil_temperature_std_deviation_5cm',\n",
       "       'max_soil_temp_10cm_quality_indicator',\n",
       "       'max_soil_temperature_10cm_celsius',\n",
       "       'min_soil_temp_10cm_quality_indicator',\n",
       "       'min_soil_temperature_10cm_celsius',\n",
       "       'soil_temp_std_10cm_quality_indicator',\n",
       "       'soil_temperature_std_deviation_10cm',\n",
       "       'max_soil_temp_20cm_quality_indicator',\n",
       "       'max_soil_temperature_20cm_celsius',\n",
       "       'min_soil_temp_20cm_quality_indicator',\n",
       "       'min_soil_temperature_20cm_celsius',\n",
       "       'soil_temp_std_20cm_quality_indicator',\n",
       "       'soil_temperature_std_deviation_20cm',\n",
       "       'max_earth_temp_30cm_quality_indicator',\n",
       "       'max_earth_temperature_30cm_celsius',\n",
       "       'min_earth_temp_30cm_quality_indicator',\n",
       "       'min_earth_temperature_30cm_celsius',\n",
       "       'earth_temp_std_30cm_quality_indicator',\n",
       "       'earth_temperature_std_deviation_30cm',\n",
       "       'max_earth_temp_50cm_quality_indicator',\n",
       "       'max_earth_temperature_50cm_celsius',\n",
       "       'min_earth_temp_50cm_quality_indicator',\n",
       "       'min_earth_temperature_50cm_celsius',\n",
       "       'earth_temp_std_50cm_quality_indicator',\n",
       "       'earth_temperature_std_deviation_50cm',\n",
       "       'max_earth_temp_100cm_quality_indicator',\n",
       "       'max_earth_temperature_100cm_celsius',\n",
       "       'min_earth_temp_100cm_quality_indicator',\n",
       "       'min_earth_temperature_100cm_celsius',\n",
       "       'earth_temp_std_100cm_quality_indicator',\n",
       "       'earth_temperature_std_deviation_100cm',\n",
       "       'max_humidity_quality_indicator', 'max_relative_humidity_percent',\n",
       "       'min_humidity_quality_indicator', 'min_relative_humidity_percent',\n",
       "       'humidity_std_quality_indicator', 'relative_humidity_std_deviation',\n",
       "       'max_pressure_quality_indicator', 'max_barometric_pressure_hpa',\n",
       "       'min_pressure_quality_indicator', 'min_barometric_pressure_hpa',\n",
       "       'pressure_std_quality_indicator', 'barometric_pressure_std_deviation'],\n",
       "      dtype='object')"
      ]
     },
     "execution_count": 17,
     "metadata": {},
     "output_type": "execute_result"
    }
   ],
   "source": [
    "df.columns"
   ]
  },
  {
   "cell_type": "code",
   "execution_count": 18,
   "id": "592e5876-682e-437c-a0a0-4b6572ea4ba5",
   "metadata": {},
   "outputs": [],
   "source": [
    "df[\"last_reported\"] = pd.to_datetime(df[\"last_reported\"])\n",
    "df[\"hour\"] = df[\"last_reported\"].dt.hour\n",
    "df[\"day_of_week\"] = df[\"last_reported\"].dt.weekday\n"
   ]
  },
  {
   "cell_type": "code",
   "execution_count": 19,
   "id": "3095695f-5876-4e43-a016-4353c690d6cb",
   "metadata": {},
   "outputs": [
    {
     "ename": "KeyError",
     "evalue": "\"['Weekday'] not in index\"",
     "output_type": "error",
     "traceback": [
      "\u001b[31m---------------------------------------------------------------------------\u001b[39m",
      "\u001b[31mKeyError\u001b[39m                                  Traceback (most recent call last)",
      "\u001b[36mCell\u001b[39m\u001b[36m \u001b[39m\u001b[32mIn[19]\u001b[39m\u001b[32m, line 7\u001b[39m\n\u001b[32m      1\u001b[39m columns_to_keep = [\u001b[33m'\u001b[39m\u001b[33mlast_reported\u001b[39m\u001b[33m'\u001b[39m, \u001b[33m'\u001b[39m\u001b[33mstation_id\u001b[39m\u001b[33m'\u001b[39m, \u001b[33m'\u001b[39m\u001b[33mnum_bikes_available\u001b[39m\u001b[33m'\u001b[39m,\n\u001b[32m      2\u001b[39m        \u001b[33m'\u001b[39m\u001b[33mnum_docks_available\u001b[39m\u001b[33m'\u001b[39m, \u001b[33m'\u001b[39m\u001b[33mis_installed\u001b[39m\u001b[33m'\u001b[39m, \u001b[33m'\u001b[39m\u001b[33mis_renting\u001b[39m\u001b[33m'\u001b[39m, \u001b[33m'\u001b[39m\u001b[33mis_returning\u001b[39m\u001b[33m'\u001b[39m,\n\u001b[32m      3\u001b[39m        \u001b[33m'\u001b[39m\u001b[33mname\u001b[39m\u001b[33m'\u001b[39m, \u001b[33m'\u001b[39m\u001b[33maddress\u001b[39m\u001b[33m'\u001b[39m, \u001b[33m'\u001b[39m\u001b[33mlat\u001b[39m\u001b[33m'\u001b[39m, \u001b[33m'\u001b[39m\u001b[33mlon\u001b[39m\u001b[33m'\u001b[39m, \u001b[33m'\u001b[39m\u001b[33mcapacity\u001b[39m\u001b[33m'\u001b[39m, \u001b[33m'\u001b[39m\u001b[33mstno\u001b[39m\u001b[33m'\u001b[39m, \u001b[33m'\u001b[39m\u001b[33myear\u001b[39m\u001b[33m'\u001b[39m, \u001b[33m'\u001b[39m\u001b[33mmonth\u001b[39m\u001b[33m'\u001b[39m,\n\u001b[32m      4\u001b[39m        \u001b[33m'\u001b[39m\u001b[33mday\u001b[39m\u001b[33m'\u001b[39m, \u001b[33m'\u001b[39m\u001b[33mhour\u001b[39m\u001b[33m'\u001b[39m, \u001b[33m'\u001b[39m\u001b[33mminute\u001b[39m\u001b[33m'\u001b[39m,\u001b[33m'\u001b[39m\u001b[33mmax_air_temperature_celsius\u001b[39m\u001b[33m'\u001b[39m,\u001b[33m'\u001b[39m\u001b[33mmin_air_temperature_celsius\u001b[39m\u001b[33m'\u001b[39m,\n\u001b[32m      5\u001b[39m     \u001b[33m'\u001b[39m\u001b[33mmax_relative_humidity_percent\u001b[39m\u001b[33m'\u001b[39m,\u001b[33m'\u001b[39m\u001b[33mmin_relative_humidity_percent\u001b[39m\u001b[33m'\u001b[39m,\u001b[33m'\u001b[39m\u001b[33mmax_barometric_pressure_hpa\u001b[39m\u001b[33m'\u001b[39m,\u001b[33m'\u001b[39m\u001b[33mmin_barometric_pressure_hpa\u001b[39m\u001b[33m'\u001b[39m,\u001b[33m'\u001b[39m\u001b[33mWeekday\u001b[39m\u001b[33m'\u001b[39m]\n\u001b[32m----> \u001b[39m\u001b[32m7\u001b[39m df =\u001b[43mdf\u001b[49m\u001b[43m[\u001b[49m\u001b[43mcolumns_to_keep\u001b[49m\u001b[43m]\u001b[49m\n",
      "\u001b[36mFile \u001b[39m\u001b[32md:\\develop_tools\\anaconda3\\envs\\comp30830py311\\Lib\\site-packages\\pandas\\core\\frame.py:4108\u001b[39m, in \u001b[36mDataFrame.__getitem__\u001b[39m\u001b[34m(self, key)\u001b[39m\n\u001b[32m   4106\u001b[39m     \u001b[38;5;28;01mif\u001b[39;00m is_iterator(key):\n\u001b[32m   4107\u001b[39m         key = \u001b[38;5;28mlist\u001b[39m(key)\n\u001b[32m-> \u001b[39m\u001b[32m4108\u001b[39m     indexer = \u001b[38;5;28;43mself\u001b[39;49m\u001b[43m.\u001b[49m\u001b[43mcolumns\u001b[49m\u001b[43m.\u001b[49m\u001b[43m_get_indexer_strict\u001b[49m\u001b[43m(\u001b[49m\u001b[43mkey\u001b[49m\u001b[43m,\u001b[49m\u001b[43m \u001b[49m\u001b[33;43m\"\u001b[39;49m\u001b[33;43mcolumns\u001b[39;49m\u001b[33;43m\"\u001b[39;49m\u001b[43m)\u001b[49m[\u001b[32m1\u001b[39m]\n\u001b[32m   4110\u001b[39m \u001b[38;5;66;03m# take() does not accept boolean indexers\u001b[39;00m\n\u001b[32m   4111\u001b[39m \u001b[38;5;28;01mif\u001b[39;00m \u001b[38;5;28mgetattr\u001b[39m(indexer, \u001b[33m\"\u001b[39m\u001b[33mdtype\u001b[39m\u001b[33m\"\u001b[39m, \u001b[38;5;28;01mNone\u001b[39;00m) == \u001b[38;5;28mbool\u001b[39m:\n",
      "\u001b[36mFile \u001b[39m\u001b[32md:\\develop_tools\\anaconda3\\envs\\comp30830py311\\Lib\\site-packages\\pandas\\core\\indexes\\base.py:6200\u001b[39m, in \u001b[36mIndex._get_indexer_strict\u001b[39m\u001b[34m(self, key, axis_name)\u001b[39m\n\u001b[32m   6197\u001b[39m \u001b[38;5;28;01melse\u001b[39;00m:\n\u001b[32m   6198\u001b[39m     keyarr, indexer, new_indexer = \u001b[38;5;28mself\u001b[39m._reindex_non_unique(keyarr)\n\u001b[32m-> \u001b[39m\u001b[32m6200\u001b[39m \u001b[38;5;28;43mself\u001b[39;49m\u001b[43m.\u001b[49m\u001b[43m_raise_if_missing\u001b[49m\u001b[43m(\u001b[49m\u001b[43mkeyarr\u001b[49m\u001b[43m,\u001b[49m\u001b[43m \u001b[49m\u001b[43mindexer\u001b[49m\u001b[43m,\u001b[49m\u001b[43m \u001b[49m\u001b[43maxis_name\u001b[49m\u001b[43m)\u001b[49m\n\u001b[32m   6202\u001b[39m keyarr = \u001b[38;5;28mself\u001b[39m.take(indexer)\n\u001b[32m   6203\u001b[39m \u001b[38;5;28;01mif\u001b[39;00m \u001b[38;5;28misinstance\u001b[39m(key, Index):\n\u001b[32m   6204\u001b[39m     \u001b[38;5;66;03m# GH 42790 - Preserve name from an Index\u001b[39;00m\n",
      "\u001b[36mFile \u001b[39m\u001b[32md:\\develop_tools\\anaconda3\\envs\\comp30830py311\\Lib\\site-packages\\pandas\\core\\indexes\\base.py:6252\u001b[39m, in \u001b[36mIndex._raise_if_missing\u001b[39m\u001b[34m(self, key, indexer, axis_name)\u001b[39m\n\u001b[32m   6249\u001b[39m     \u001b[38;5;28;01mraise\u001b[39;00m \u001b[38;5;167;01mKeyError\u001b[39;00m(\u001b[33mf\u001b[39m\u001b[33m\"\u001b[39m\u001b[33mNone of [\u001b[39m\u001b[38;5;132;01m{\u001b[39;00mkey\u001b[38;5;132;01m}\u001b[39;00m\u001b[33m] are in the [\u001b[39m\u001b[38;5;132;01m{\u001b[39;00maxis_name\u001b[38;5;132;01m}\u001b[39;00m\u001b[33m]\u001b[39m\u001b[33m\"\u001b[39m)\n\u001b[32m   6251\u001b[39m not_found = \u001b[38;5;28mlist\u001b[39m(ensure_index(key)[missing_mask.nonzero()[\u001b[32m0\u001b[39m]].unique())\n\u001b[32m-> \u001b[39m\u001b[32m6252\u001b[39m \u001b[38;5;28;01mraise\u001b[39;00m \u001b[38;5;167;01mKeyError\u001b[39;00m(\u001b[33mf\u001b[39m\u001b[33m\"\u001b[39m\u001b[38;5;132;01m{\u001b[39;00mnot_found\u001b[38;5;132;01m}\u001b[39;00m\u001b[33m not in index\u001b[39m\u001b[33m\"\u001b[39m)\n",
      "\u001b[31mKeyError\u001b[39m: \"['Weekday'] not in index\""
     ]
    }
   ],
   "source": [
    "columns_to_keep = ['last_reported', 'station_id', 'num_bikes_available',\n",
    "       'num_docks_available', 'is_installed', 'is_renting', 'is_returning',\n",
    "       'name', 'address', 'lat', 'lon', 'capacity', 'stno', 'year', 'month',\n",
    "       'day', 'hour', 'minute','max_air_temperature_celsius','min_air_temperature_celsius',\n",
    "    'max_relative_humidity_percent','min_relative_humidity_percent','max_barometric_pressure_hpa','min_barometric_pressure_hpa','Weekday']\n",
    "    \n",
    "df =df[columns_to_keep]"
   ]
  },
  {
   "cell_type": "code",
   "execution_count": null,
   "id": "3279a65c-7296-4253-abe0-3f4862732291",
   "metadata": {},
   "outputs": [],
   "source": [
    "df.columns"
   ]
  },
  {
   "cell_type": "code",
   "execution_count": 20,
   "id": "e8f4f156-9919-4dba-8f7a-cfa6b6ffce38",
   "metadata": {},
   "outputs": [
    {
     "name": "stderr",
     "output_type": "stream",
     "text": [
      "d:\\develop_tools\\anaconda3\\envs\\comp30830py311\\Lib\\site-packages\\sklearn\\base.py:1389: DataConversionWarning: A column-vector y was passed when a 1d array was expected. Please change the shape of y to (n_samples,), for example using ravel().\n",
      "  return fit_method(estimator, *args, **kwargs)\n"
     ]
    },
    {
     "name": "stdout",
     "output_type": "stream",
     "text": [
      "Mean Absolute Error: 1.0435334340573572\n",
      "R² Score: 0.9610957446834897\n"
     ]
    }
   ],
   "source": [
    "df[\"wind_speed\"] = 0.0 \n",
    "df[\"precipitation\"] = 0.0\n",
    "features = [\"station_id\",\n",
    "    \"max_air_temperature_celsius\",\n",
    "    \"max_relative_humidity_percent\",\n",
    "    \"max_barometric_pressure_hpa\",\n",
    "    \"wind_speed\",\n",
    "    \"precipitation\",\n",
    "    \"hour\",\n",
    "    \"day_of_week\"]\n",
    "target = ['num_bikes_available']\n",
    "X = df[features]\n",
    "y = df[target]\n",
    "\n",
    "# Split data into training and testing sets\n",
    "X_train, X_test, y_train, y_test = train_test_split(X, y, test_size=0.3, random_state=42)\n",
    "\n",
    "# Train a linear regression model\n",
    "# model = LinearRegression()\n",
    "model = RandomForestRegressor(n_estimators=100, random_state=42)\n",
    "model.fit(X_train, y_train)\n",
    "\n",
    "# Make predictions\n",
    "y_pred = model.predict(X_test)\n",
    "\n",
    "# Evaluate the model\n",
    "mae = mean_absolute_error(y_test, y_pred)\n",
    "r2 = r2_score(y_test, y_pred)\n",
    "print(f\"Mean Absolute Error: {mae}\")\n",
    "print(f\"R² Score: {r2}\")"
   ]
  },
  {
   "cell_type": "code",
   "execution_count": 23,
   "id": "41ef4b57-873f-402c-82cf-65d7cbd9f255",
   "metadata": {},
   "outputs": [
    {
     "data": {
      "text/plain": [
       "(89684, 1)"
      ]
     },
     "execution_count": 23,
     "metadata": {},
     "output_type": "execute_result"
    }
   ],
   "source": [
    "y_test.shape"
   ]
  },
  {
   "cell_type": "code",
   "execution_count": 24,
   "id": "07e2a14a-dd78-4dc3-837e-c5e85f856fca",
   "metadata": {},
   "outputs": [
    {
     "data": {
      "text/plain": [
       "(89684,)"
      ]
     },
     "execution_count": 24,
     "metadata": {},
     "output_type": "execute_result"
    }
   ],
   "source": [
    "y_pred.shape"
   ]
  },
  {
   "cell_type": "code",
   "execution_count": 25,
   "id": "7561c022-e89c-4a15-940d-03f3c0a7bafd",
   "metadata": {},
   "outputs": [
    {
     "data": {
      "text/html": [
       "<div>\n",
       "<style scoped>\n",
       "    .dataframe tbody tr th:only-of-type {\n",
       "        vertical-align: middle;\n",
       "    }\n",
       "\n",
       "    .dataframe tbody tr th {\n",
       "        vertical-align: top;\n",
       "    }\n",
       "\n",
       "    .dataframe thead th {\n",
       "        text-align: right;\n",
       "    }\n",
       "</style>\n",
       "<table border=\"1\" class=\"dataframe\">\n",
       "  <thead>\n",
       "    <tr style=\"text-align: right;\">\n",
       "      <th></th>\n",
       "      <th>Actual</th>\n",
       "      <th>Predicted</th>\n",
       "    </tr>\n",
       "  </thead>\n",
       "  <tbody>\n",
       "    <tr>\n",
       "      <th>297259</th>\n",
       "      <td>31</td>\n",
       "      <td>30.68</td>\n",
       "    </tr>\n",
       "    <tr>\n",
       "      <th>14520</th>\n",
       "      <td>23</td>\n",
       "      <td>24.73</td>\n",
       "    </tr>\n",
       "    <tr>\n",
       "      <th>113311</th>\n",
       "      <td>4</td>\n",
       "      <td>2.15</td>\n",
       "    </tr>\n",
       "    <tr>\n",
       "      <th>212766</th>\n",
       "      <td>1</td>\n",
       "      <td>1.94</td>\n",
       "    </tr>\n",
       "    <tr>\n",
       "      <th>86232</th>\n",
       "      <td>0</td>\n",
       "      <td>0.64</td>\n",
       "    </tr>\n",
       "  </tbody>\n",
       "</table>\n",
       "</div>"
      ],
      "text/plain": [
       "        Actual  Predicted\n",
       "297259      31      30.68\n",
       "14520       23      24.73\n",
       "113311       4       2.15\n",
       "212766       1       1.94\n",
       "86232        0       0.64"
      ]
     },
     "execution_count": 25,
     "metadata": {},
     "output_type": "execute_result"
    }
   ],
   "source": [
    "result_df = pd.DataFrame({\n",
    "    'Actual': y_test.squeeze(),  # Remove extra dimension\n",
    "    'Predicted': y_pred.squeeze()\n",
    "})\n",
    "result_df.head(5)"
   ]
  },
  {
   "cell_type": "code",
   "execution_count": 26,
   "id": "a87c77c3-2030-4884-b1b2-0604276fa130",
   "metadata": {},
   "outputs": [
    {
     "name": "stdout",
     "output_type": "stream",
     "text": [
      "Model saved to bike_availability_model.pkl\n"
     ]
    }
   ],
   "source": [
    "# Save the model to a .pkl file\n",
    "model_filename = \"bike_availability_model.pkl\"\n",
    "with open(model_filename, \"wb\") as file:\n",
    "    pickle.dump(model, file)\n",
    "print(f\"Model saved to {model_filename}\")"
   ]
  }
 ],
 "metadata": {
  "kernelspec": {
   "display_name": "comp30830py311",
   "language": "python",
   "name": "python3"
  },
  "language_info": {
   "codemirror_mode": {
    "name": "ipython",
    "version": 3
   },
   "file_extension": ".py",
   "mimetype": "text/x-python",
   "name": "python",
   "nbconvert_exporter": "python",
   "pygments_lexer": "ipython3",
   "version": "3.11.11"
  }
 },
 "nbformat": 4,
 "nbformat_minor": 5
}
